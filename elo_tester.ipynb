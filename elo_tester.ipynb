{
 "cells": [
  {
   "cell_type": "code",
   "execution_count": 48,
   "metadata": {},
   "outputs": [
    {
     "name": "stdout",
     "output_type": "stream",
     "text": [
      "538's Model Vegas Line = -3.44\n",
      "John's Model Vegas Line = -2.329023025091661\n"
     ]
    }
   ],
   "source": [
    "# Run from Model Classes\n",
    "import importlib\n",
    "from src import elo_models as EloModels\n",
    "importlib.reload(EloModels)\n",
    "\n",
    "# Game Inputs\n",
    "elo_h_base = 1502  # Home Team\n",
    "elo_a_base = 1471  # Away Team\n",
    "\n",
    "# Set Up 538 ELO Model and get vegas line\n",
    "elo_538 = EloModels.FiveThirtyEightElo(\n",
    "    home_field_add=55,\n",
    "    home_field_dist_add=4,\n",
    "    rest_add=25,\n",
    "    playoff_mult=1.2\n",
    ")\n",
    "vegas_line_538 = elo_538.get_vegas_line(elo_h_base, elo_a_base)\n",
    "print(f\"538's Model Vegas Line = {vegas_line_538}\")\n",
    "\n",
    "# Set Up Johns Model and get vegas line\n",
    "elo_john = EloModels.JohnElo(\n",
    "    coeff=0.075,\n",
    "    exp_ratio=(699/999),\n",
    "    home_field_add=1.5\n",
    ")\n",
    "vegas_line_john = elo_john.get_vegas_line(elo_h_base, elo_a_base)\n",
    "print(f\"John's Model Vegas Line = {vegas_line_john}\")"
   ]
  }
 ],
 "metadata": {
  "kernelspec": {
   "display_name": "Python 3.10.5 ('venv': venv)",
   "language": "python",
   "name": "python3"
  },
  "language_info": {
   "codemirror_mode": {
    "name": "ipython",
    "version": 3
   },
   "file_extension": ".py",
   "mimetype": "text/x-python",
   "name": "python",
   "nbconvert_exporter": "python",
   "pygments_lexer": "ipython3",
   "version": "3.10.5"
  },
  "orig_nbformat": 4,
  "vscode": {
   "interpreter": {
    "hash": "21534a6d84d8c754ea9586e360a6be7ae557fbc8648d33fc3cb5f396a2d261a6"
   }
  }
 },
 "nbformat": 4,
 "nbformat_minor": 2
}
