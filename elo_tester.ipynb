{
 "cells": [
  {
   "cell_type": "code",
   "execution_count": 4,
   "metadata": {},
   "outputs": [
    {
     "name": "stdout",
     "output_type": "stream",
     "text": [
      "Model Inputs:\n",
      "Home Team Pregame ELO = 1502\n",
      "Home Team Final Score = 34\n",
      "Away Team Pregrame ELO = 1471\n",
      "Away Team Final Score = 33\n",
      "\n",
      "--- 538 Model ---\n",
      "538's Model Vegas Line = -3.44\n",
      "Home Team ELO changed from 1502 to 1507.176993626179\n",
      "Away Team ELO changed from 1471 to 1465.823006373821\n",
      "John's Model Vegas Line = -2.329023025091661\n"
     ]
    }
   ],
   "source": [
    "# Run from Model Classes\n",
    "import importlib\n",
    "from src import elo_models as EloModels\n",
    "importlib.reload(EloModels)\n",
    "\n",
    "# Game Inputs\n",
    "elo_h_base = 1502  # Home Team\n",
    "elo_a_base = 1471  # Away Team\n",
    "result_h = 34  # Home Team Points\n",
    "result_a = 33  # Away Team Points\n",
    "print('Model Inputs:')\n",
    "print(f'Home Team Pregame ELO = {elo_h_base}')\n",
    "print(f'Home Team Final Score = {34}')\n",
    "print(f'Away Team Pregrame ELO = {elo_a_base}')\n",
    "print(f'Away Team Final Score = {result_a}')\n",
    "print()\n",
    "\n",
    "\n",
    "# Set Up 538 ELO Model and get vegas line\n",
    "print('--- 538 Model ---')\n",
    "elo_538 = EloModels.FiveThirtyEightElo(\n",
    "    home_field_add=55,\n",
    "    home_field_dist_add=4,\n",
    "    rest_add=25,\n",
    "    playoff_mult=1.2,\n",
    "    k=20\n",
    ")\n",
    "\n",
    "# 538 ELO Adjustments\n",
    "elo_h_adj = elo_538.elo_adjustment(\n",
    "    elo_base=elo_h_base,\n",
    "    is_home_team=True,\n",
    "    travel_dist=0,\n",
    "    coming_off_bye=False,\n",
    "    is_playoffs=False\n",
    ")\n",
    "elo_a_adj = elo_538.elo_adjustment(\n",
    "    elo_base=elo_a_base,\n",
    "    is_home_team=False,\n",
    "    travel_dist=0,\n",
    "    coming_off_bye=False,\n",
    "    is_playoffs=False\n",
    ")\n",
    "\n",
    "# Get Probability of home win, Vegas Line\n",
    "home_w_prob, vegas_line_538 = elo_538.get_vegas_line(elo_h_adj, elo_a_adj)\n",
    "print(f\"538's Model Vegas Line = {vegas_line_538}\")\n",
    "\n",
    "# Update ELO Ratings for both teams for the 538 Model\n",
    "elo_h_post_game, elo_a_post_game = elo_538.get_post_game_elos(\n",
    "    elo_h_pregame=elo_h_base,\n",
    "    elo_a_pregame=elo_a_base,\n",
    "    h_score=result_h,\n",
    "    a_score=result_a,\n",
    "    h_win_prob=home_w_prob\n",
    ")\n",
    "print(f'Home Team ELO changed from {elo_h_base} to {elo_h_post_game}')\n",
    "print(f'Away Team ELO changed from {elo_a_base} to {elo_a_post_game}')\n",
    "print()\n",
    "\n",
    "# Set Up Johns Model and get vegas line\n",
    "elo_john = EloModels.JohnElo(\n",
    "    coeff=0.075,\n",
    "    exp_ratio=(699/999),\n",
    "    home_field_add=1.5\n",
    ")\n",
    "vegas_line_john = elo_john.get_vegas_line(elo_h_base, elo_a_base)\n",
    "print(\"--- John's Model ---\")\n",
    "print(f\"John's Model Vegas Line = {vegas_line_john}\")\n",
    "\n",
    "# Update ELO Ratings for both teams for Johns Model\n",
    "# Model's Updating Properties\n",
    "\n",
    "margin_pct = .02\n",
    "h_a_pct = .95\n",
    "\n",
    "# Coeff A\n",
    "if result_h > result_a:\n",
    "    coeff_a = margin_pct*h_a_pct*elo_a_base\n",
    "else:\n",
    "    coeff_a = -margin_pct*h_a_pct*elo_h_base\n",
    "\n",
    "# Coeff B\n",
    "if result_h > result_a:\n",
    "    if elo_h_base > elo_a_base:\n",
    "        coeff_b = 1-(elo_h_base-elo_a_base)/elo_h_base\n",
    "    elif elo_a_base > elo_h_base:\n",
    "        coeff_b = 1+(elo_a_base-elo_h_base)/elo_a_base\n",
    "    else:\n",
    "        coeff_b = 1\n",
    "else:\n",
    "    if elo_h_base > elo_a_base:\n",
    "        coeff_b = 1+(elo_h_base-elo_a_base)/elo_h_base\n",
    "    elif elo_a_base > elo_h_base:\n",
    "        coeff_b = 1-(elo_a_base-elo_h_base)/elo_a_base\n",
    "    else:\n",
    "        coeff_b = 1\n",
    "\n",
    "# Run Calculation\n",
    "home_team_elo_change = coeff_a*coeff_b**0.25\n",
    "elo_h_post_game = elo_h_base + home_team_elo_change\n",
    "elo_a_post_game = elo_a_base - home_team_elo_change\n",
    "print(f'Home Team ELO changed from {elo_h_base} to {elo_h_post_game}')\n",
    "print(f'Home Team ELO changed from {elo_a_base} to {elo_a_post_game}')"
   ]
  },
  {
   "cell_type": "code",
   "execution_count": 11,
   "metadata": {},
   "outputs": [
    {
     "data": {
      "text/plain": [
       "27.803659336825614"
      ]
     },
     "execution_count": 11,
     "metadata": {},
     "output_type": "execute_result"
    }
   ],
   "source": [
    "\n"
   ]
  },
  {
   "cell_type": "code",
   "execution_count": null,
   "metadata": {},
   "outputs": [],
   "source": [
    "### Evaluate Johns Model Performance for 2021\n",
    "\n",
    "\n"
   ]
  }
 ],
 "metadata": {
  "kernelspec": {
   "display_name": "Python 3.10.5 ('venv': venv)",
   "language": "python",
   "name": "python3"
  },
  "language_info": {
   "codemirror_mode": {
    "name": "ipython",
    "version": 3
   },
   "file_extension": ".py",
   "mimetype": "text/x-python",
   "name": "python",
   "nbconvert_exporter": "python",
   "pygments_lexer": "ipython3",
   "version": "3.10.5"
  },
  "orig_nbformat": 4,
  "vscode": {
   "interpreter": {
    "hash": "21534a6d84d8c754ea9586e360a6be7ae557fbc8648d33fc3cb5f396a2d261a6"
   }
  }
 },
 "nbformat": 4,
 "nbformat_minor": 2
}
