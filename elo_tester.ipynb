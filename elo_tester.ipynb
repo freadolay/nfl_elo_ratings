{
 "cells": [
  {
   "cell_type": "code",
   "execution_count": 35,
   "metadata": {},
   "outputs": [
    {
     "name": "stdout",
     "output_type": "stream",
     "text": [
      "1502\n",
      "1471\n",
      "pr_h = 0.62%\n",
      "538 Vegas line: -3.44\n",
      "55\n",
      "0.0\n",
      "0\n",
      "0\n",
      "0.0\n",
      "0\n"
     ]
    },
    {
     "data": {
      "text/plain": [
       "-3.44"
      ]
     },
     "execution_count": 35,
     "metadata": {},
     "output_type": "execute_result"
    }
   ],
   "source": [
    "### Five-Thirty-Eight ELO Model:\n",
    "\n",
    "def five_thirty_eight_elo_calc(elo_base, is_home_team, home_field_add=55, home_field_dist_add=4, travel_dist=0, coming_off_bye=False, rest_add=25, is_playoffs=False, playoff_mult=1.2):\n",
    "    \"\"\"\n",
    "    travel_dist = distance in miles\n",
    "    home_field_dist_add = multiplier per 1000 miles\n",
    "    \"\"\"\n",
    "    home_field_add *= is_home_team\n",
    "    home_field_dist_add = is_home_team*home_field_dist_add*travel_dist/1000\n",
    "    rest_add *= coming_off_bye\n",
    "    elo = elo_base + home_field_add + home_field_dist_add + rest_add\n",
    "    if is_playoffs and is_home_team:\n",
    "        elo *= playoff_mult\n",
    "    return elo\n",
    "\n",
    "def five_thirty_eight_vegas_line(home_team_elo, away_team_elo, denom=25):\n",
    "    elo_diff = home_team_elo - away_team_elo\n",
    "\n",
    "    # Probability Calc (Doesn't matter for vegas line I guess?\n",
    "    coeff=10\n",
    "    exp_denom=400\n",
    "    home_team_win_prob = 1 / ( coeff**(-elo_diff/exp_denom) + 1 )\n",
    "\n",
    "    # Vegas Line Calc\n",
    "    vegas_line = -elo_diff/denom\n",
    "    return vegas_line\n",
    "\n",
    "elo_h_base = 1502\n",
    "elo_a_base = 1471\n",
    "elo_home_team = five_thirty_eight_elo_calc(elo_base=elo_h_base, is_home_team=True)\n",
    "elo_away_team = five_thirty_eight_elo_calc(elo_base=elo_a_base, is_home_team=False)\n",
    "vegas_line = five_thirty_eight_vegas_line(elo_home_team, elo_away_team)\n",
    "vegas_line\n"
   ]
  },
  {
   "cell_type": "code",
   "execution_count": 24,
   "metadata": {},
   "outputs": [
    {
     "name": "stdout",
     "output_type": "stream",
     "text": [
      "John's Home Team Vegas line: -2.33\n"
     ]
    }
   ],
   "source": [
    "### John's ELO Vegas Line Model:\n",
    "def johns_vegas_line(home_team_elo, away_team_elo, coeff=0.075, exp_num=699, exp_denom=999, home_field_add=1.5):\n",
    "    vegas_line = -(coeff*(elo_diff)**(exp_num/exp_denom) + home_field_add)\n",
    "    return vegas_line\n",
    "\n",
    "john_elo_line = johns_elo_line(elo_h, elo_a)\n",
    "print(f\"John's Home Team Vegas line: {round(john_elo_line,2)}\")"
   ]
  },
  {
   "cell_type": "code",
   "execution_count": 30,
   "metadata": {},
   "outputs": [
    {
     "data": {
      "text/plain": [
       "50"
      ]
     },
     "execution_count": 30,
     "metadata": {},
     "output_type": "execute_result"
    }
   ],
   "source": [
    "True*50*True"
   ]
  },
  {
   "cell_type": "code",
   "execution_count": null,
   "metadata": {},
   "outputs": [],
   "source": []
  }
 ],
 "metadata": {
  "kernelspec": {
   "display_name": "Python 3.10.5 ('venv': venv)",
   "language": "python",
   "name": "python3"
  },
  "language_info": {
   "codemirror_mode": {
    "name": "ipython",
    "version": 3
   },
   "file_extension": ".py",
   "mimetype": "text/x-python",
   "name": "python",
   "nbconvert_exporter": "python",
   "pygments_lexer": "ipython3",
   "version": "3.10.5"
  },
  "orig_nbformat": 4,
  "vscode": {
   "interpreter": {
    "hash": "21534a6d84d8c754ea9586e360a6be7ae557fbc8648d33fc3cb5f396a2d261a6"
   }
  }
 },
 "nbformat": 4,
 "nbformat_minor": 2
}
